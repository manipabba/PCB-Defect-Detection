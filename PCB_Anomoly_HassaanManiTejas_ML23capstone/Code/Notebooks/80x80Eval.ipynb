{
  "nbformat": 4,
  "nbformat_minor": 0,
  "metadata": {
    "colab": {
      "provenance": []
    },
    "kernelspec": {
      "name": "python3",
      "display_name": "Python 3"
    },
    "language_info": {
      "name": "python"
    }
  },
  "cells": [
    {
      "cell_type": "code",
      "execution_count": null,
      "metadata": {
        "colab": {
          "base_uri": "https://localhost:8080/"
        },
        "id": "fjSY9Cy4m09Z",
        "outputId": "48a9dbdb-3de6-4d73-93e7-67258c4a082b"
      },
      "outputs": [
        {
          "output_type": "stream",
          "name": "stdout",
          "text": [
            "Mounted at /content/drive\n"
          ]
        }
      ],
      "source": [
        "import numpy as np\n",
        "import os\n",
        "import matplotlib\n",
        "import matplotlib.pyplot as plt\n",
        "import matplotlib.image as immg\n",
        "import cv2\n",
        "from google.colab import drive\n",
        "from google.colab.patches import cv2_imshow\n",
        "drive.mount('/content/drive')\n",
        "\n",
        "import pandas as pd\n",
        "import tensorflow as tf\n",
        "import keras as keras\n",
        "from keras import layers\n",
        "\n",
        "from skimage.util import random_noise\n",
        "from skimage.filters import threshold_multiotsu"
      ]
    },
    {
      "cell_type": "code",
      "source": [
        "from scipy.signal import convolve2d"
      ],
      "metadata": {
        "id": "ZpufehJEnA7U"
      },
      "execution_count": null,
      "outputs": []
    },
    {
      "cell_type": "code",
      "source": [
        "# function to add Gaussian noise to image\n",
        "def addNoise(img, noiseFactor):\n",
        "  h = len(img)\n",
        "  w = len(img[0])\n",
        "  noise_img = 255*random_noise(img, mode='s&p',amount=noiseFactor)\n",
        "  return noise_img\n",
        "\n",
        "def preprocess(img, noise=False, noiseFactor=None):\n",
        "  rgb_img = cv2.cvtColor(img, cv2.COLOR_BGR2RGB)\n",
        "  r,g,b = cv2.split(rgb_img)\n",
        "  for i in range(len(g)):\n",
        "    for j in range(len(g[i])):\n",
        "      g[i][j] = 0\n",
        "\n",
        "  rgb = np.dstack((b,g,r))\n",
        "\n",
        "  hsv_img = cv2.cvtColor(rgb, cv2.COLOR_BGR2HSV)\n",
        "  h,s,v = cv2.split(hsv_img)\n",
        "  hsv_split = np.concatenate((h,s,v),axis=1)\n",
        "\n",
        "  thresholds = threshold_multiotsu(v, classes=3)\n",
        "  if noise: v = addNoise(v, noiseFactor)\n",
        "\n",
        "  # Using the threshold values, we generate the three regions.\n",
        "  regions = np.digitize(v, bins=thresholds)\n",
        "\n",
        "  return regions\n",
        "\n",
        "def cutImageUp(img, w, h):\n",
        "  rowRange = range(0, len(img)//w * w, w)\n",
        "  colRange = range(0, len(img[0])//h * h, h)\n",
        "  cutup = np.zeros(((len(rowRange)) * (len(colRange)), w, h, 1))\n",
        "  index = 0\n",
        "  for (ri, i) in enumerate(rowRange):\n",
        "    for (ci, j) in enumerate(colRange):\n",
        "      cutup[index] = np.reshape(img[i : (i + w), j : (j + h)], (w, h, 1))\n",
        "      index = index + 1\n",
        "  return cutup\n",
        "\n",
        "def stitchTogether(cutImg, w, h):\n",
        "  dim = cutImg[0].shape\n",
        "  w_i, h_i = dim[0], dim[1]\n",
        "  n = len(cutImg)\n",
        "\n",
        "  rangeW = w // w_i\n",
        "  rangeH = h // h_i\n",
        "\n",
        "  img_lst = []\n",
        "\n",
        "  cnt = 0\n",
        "  for j in range(0, rangeH):\n",
        "    lst = []\n",
        "    for i in range(0, rangeW):\n",
        "      if cnt >= n:\n",
        "         return cv2.vconcat(img_lst)\n",
        "      lst.append(cutImg[cnt])\n",
        "      cnt += 1\n",
        "    img_lst.append(cv2.hconcat(lst))\n",
        "\n",
        "\n",
        "\n",
        "  return cv2.vconcat(img_lst)"
      ],
      "metadata": {
        "id": "W4zcQqh6nCtH"
      },
      "execution_count": null,
      "outputs": []
    },
    {
      "cell_type": "code",
      "source": [
        "nodefect_autoencoder = keras.models.load_model('/content/drive/MyDrive/ENEE 439D Final Project/Aerospace PCB Our Pics/nodefectReconstruct')"
      ],
      "metadata": {
        "id": "B1erIjSOnEow"
      },
      "execution_count": null,
      "outputs": []
    },
    {
      "cell_type": "markdown",
      "source": [
        "# DeepPCB Dataset Analysis"
      ],
      "metadata": {
        "id": "DYohgTWqoqvN"
      }
    },
    {
      "cell_type": "code",
      "source": [
        "def classify_regular_pcb(file_path, preprocessBool=True, invert=False):\n",
        "  img = cv2.imread(file_path)\n",
        "  if not preprocessBool: \n",
        "    img[img > 255/2] = 255.\n",
        "    img[img < 255/2] = 0.\n",
        "    if invert: img = (255 - img)/255\n",
        "    if not invert: img = img/255\n",
        "    r,g,b = cv2.split(img)\n",
        "    img = r\n",
        "    \n",
        "  if preprocessBool: \n",
        "    img = preprocess(img)\n",
        "    img[img > 0.5] = 1.\n",
        "    img[img < 0.5] = 0.\n",
        "  #cv2_imshow(img*255)\n",
        "  \n",
        "  cutup = cutImageUp(img, 80, 80)\n",
        "  prediction = nodefect_autoencoder.predict(cutup, verbose=0)\n",
        "  prediction = np.reshape(prediction, np.shape(prediction)[:-1])\n",
        "  h, w = img.shape\n",
        "\n",
        "  # scale up images\n",
        "  prediction = [img for img in prediction]\n",
        "  cutup = [img for img in cutup]\n",
        "\n",
        "  pred_full = stitchTogether(prediction, w, h)\n",
        "  #cv2_imshow(pred_full*255)\n",
        " \n",
        "  original_img = stitchTogether(cutup, w, h)\n",
        "  difference = np.abs(np.subtract(original_img, pred_full))\n",
        "  difference[difference < 0.] = 0.\n",
        "  sum_kernel = np.tile(1/9., (3, 3))\n",
        "  difference = convolve2d(difference, sum_kernel, 'same')\n",
        "  difference[difference < 0.5] = 0\n",
        "  difference[difference >= 0.5] = 1\n",
        "  #cv2_imshow(difference*255)\n",
        "  return difference\n",
        "  "
      ],
      "metadata": {
        "id": "u0R1ntuPnKag"
      },
      "execution_count": null,
      "outputs": []
    },
    {
      "cell_type": "code",
      "source": [
        "def defect_segmentation_mask(template, test, defects=None,\n",
        "                             preprocessBool = False, \n",
        "                             invert = False, \n",
        "                             bb = False):\n",
        "  template = cv2.imread(template)\n",
        "  img = template\n",
        "  if not preprocessBool: \n",
        "    img[img > 255/2] = 255.\n",
        "    img[img < 255/2] = 0.\n",
        "    if invert: img = (255 - img)/255\n",
        "    if not invert: img = img/255\n",
        "    r,g,b = cv2.split(img)\n",
        "    img = r\n",
        "    \n",
        "  if preprocessBool: \n",
        "    img = preprocess(img)\n",
        "    img[img > 0.5] = 1.\n",
        "    img[img < 0.5] = 0.\n",
        "\n",
        "  template = img\n",
        "\n",
        "  test = cv2.imread(test)\n",
        "  img = test\n",
        "  if not preprocessBool: \n",
        "    img[img > 255/2] = 255.\n",
        "    img[img < 255/2] = 0.\n",
        "    if invert: img = (255 - img)/255\n",
        "    if not invert: img = img/255\n",
        "    r,g,b = cv2.split(img)\n",
        "    img = r\n",
        "    \n",
        "  if preprocessBool: \n",
        "    img = preprocess(img)\n",
        "    img[img > 0.5] = 1.\n",
        "    img[img < 0.5] = 0.\n",
        "    \n",
        "  test = img\n",
        "  difference = np.abs(np.subtract(test, template))\n",
        "\n",
        "  if bb:\n",
        "    for i in range(len(difference)):\n",
        "      for j in range(len(difference[0])):\n",
        "        valid = False\n",
        "        for defect in defects:\n",
        "          if defect[-1] in [1] and defect[1] <= i and i <= defect[3] and defect[0] <= j and j <= defect[2]:\n",
        "            valid = True\n",
        "        if not valid: difference[i, j] = 0\n",
        "  \n",
        "  difference[difference < 0.] = 0.\n",
        "  sum_kernel = np.tile(1/9., (3, 3))\n",
        "  difference = convolve2d(difference, sum_kernel, 'same')\n",
        "  difference[difference < 0.5] = 0\n",
        "  #cv2_imshow(difference*255)\n",
        "  return difference"
      ],
      "metadata": {
        "id": "XRSlI3-Cs4dx"
      },
      "execution_count": null,
      "outputs": []
    },
    {
      "cell_type": "code",
      "source": [
        "defect_segmentation_mask(\"/content/drive/MyDrive/ENEE 439D Final Project/Deep PCB Data/Template/901000682_temp.jpg\",\n",
        "                         \"/content/drive/MyDrive/ENEE 439D Final Project/Deep PCB Data/Test/901000682_test.jpg\")"
      ],
      "metadata": {
        "colab": {
          "base_uri": "https://localhost:8080/"
        },
        "id": "qaetDafDtE2L",
        "outputId": "68080bc8-4462-49c8-9d35-7ea8a6716c48"
      },
      "execution_count": null,
      "outputs": [
        {
          "output_type": "execute_result",
          "data": {
            "text/plain": [
              "array([[0., 0., 0., ..., 0., 0., 0.],\n",
              "       [0., 0., 0., ..., 0., 0., 0.],\n",
              "       [0., 0., 0., ..., 0., 0., 0.],\n",
              "       ...,\n",
              "       [0., 0., 0., ..., 0., 0., 0.],\n",
              "       [0., 0., 0., ..., 0., 0., 0.],\n",
              "       [0., 0., 0., ..., 0., 0., 0.]])"
            ]
          },
          "metadata": {},
          "execution_count": 38
        }
      ]
    },
    {
      "cell_type": "code",
      "source": [
        "defect_segmentation_mask(\"/content/drive/MyDrive/ENEE 439D Final Project/Deep PCB Data/Template/000410041_temp.jpg\",\n",
        "                         \"/content/drive/MyDrive/ENEE 439D Final Project/Deep PCB Data/Test/000410041_test.jpg\")"
      ],
      "metadata": {
        "colab": {
          "base_uri": "https://localhost:8080/"
        },
        "id": "HKZfe8-kuLjY",
        "outputId": "42132ce5-461f-4ad0-dfea-c2ddeeaf1171"
      },
      "execution_count": null,
      "outputs": [
        {
          "output_type": "execute_result",
          "data": {
            "text/plain": [
              "array([[0., 0., 0., ..., 0., 0., 0.],\n",
              "       [0., 0., 0., ..., 0., 0., 0.],\n",
              "       [0., 0., 0., ..., 0., 0., 0.],\n",
              "       ...,\n",
              "       [0., 0., 0., ..., 0., 0., 0.],\n",
              "       [0., 0., 0., ..., 0., 0., 0.],\n",
              "       [0., 0., 0., ..., 0., 0., 0.]])"
            ]
          },
          "metadata": {},
          "execution_count": 39
        }
      ]
    },
    {
      "cell_type": "code",
      "source": [
        "classify_regular_pcb(\"/content/drive/MyDrive/ENEE 439D Final Project/Deep PCB Data/Test/901000682_test.jpg\", preprocessBool=False)"
      ],
      "metadata": {
        "colab": {
          "base_uri": "https://localhost:8080/"
        },
        "id": "WpySzxXDnnS3",
        "outputId": "b4cb0fc9-2ccf-428f-c75a-3064d50e1fc9"
      },
      "execution_count": null,
      "outputs": [
        {
          "output_type": "stream",
          "name": "stdout",
          "text": [
            "1/1 [==============================] - 0s 31ms/step\n"
          ]
        },
        {
          "output_type": "execute_result",
          "data": {
            "text/plain": [
              "array([[0., 0., 0., ..., 0., 0., 0.],\n",
              "       [0., 0., 0., ..., 0., 0., 0.],\n",
              "       [0., 0., 0., ..., 0., 0., 0.],\n",
              "       ...,\n",
              "       [0., 0., 0., ..., 0., 0., 0.],\n",
              "       [0., 0., 0., ..., 0., 0., 0.],\n",
              "       [0., 0., 0., ..., 0., 0., 0.]])"
            ]
          },
          "metadata": {},
          "execution_count": 42
        }
      ]
    },
    {
      "cell_type": "code",
      "source": [
        "classify_regular_pcb(\"/content/drive/MyDrive/ENEE 439D Final Project/Deep PCB Data/Test/901000682_test.jpg\", preprocessBool=False)"
      ],
      "metadata": {
        "id": "XOjBrXkwuBCm"
      },
      "execution_count": null,
      "outputs": []
    },
    {
      "cell_type": "code",
      "source": [
        "def quantify_performance_deeppcb():\n",
        "  tempPath = \"/content/drive/MyDrive/ENEE 439D Final Project/Deep PCB Data/Template/\"\n",
        "  testPath = \"/content/drive/MyDrive/ENEE 439D Final Project/Deep PCB Data/Test/\"\n",
        "  \n",
        "\n",
        "  precisions = np.asarray([])\n",
        "  recalls = np.asarray([])\n",
        "\n",
        "  p = 0\n",
        "\n",
        "  for i in os.listdir(tempPath):\n",
        "    print(i)\n",
        "    temp_img_path = tempPath + i\n",
        "    test_img_path = testPath + i.split(\"_\")[0] + \"_test.jpg\"\n",
        "\n",
        "    difference = classify_regular_pcb(test_img_path, preprocessBool=False, invert=False)\n",
        "\n",
        "    defect_mask = defect_segmentation_mask(temp_img_path,\n",
        "                                           test_img_path)\n",
        "\n",
        "    cv2_imshow(difference*255)\n",
        "    cv2_imshow(defect_mask*255)\n",
        "\n",
        "\n",
        "    false_positive = np.subtract(difference, defect_mask) \n",
        "    false_positive[false_positive < 0] = 0\n",
        "\n",
        "    true_positive = np.subtract(difference, false_positive)\n",
        "\n",
        "    cv2_imshow(false_positive*255)\n",
        "    cv2_imshow(true_positive*255)\n",
        "\n",
        "    precision = np.sum(true_positive) / np.sum(false_positive + true_positive)\n",
        "\n",
        "    if  np.sum(false_positive + true_positive) == 0.0:\n",
        "      precision = 0.0\n",
        "\n",
        "    print(precision)\n",
        "\n",
        "\n",
        "    false_negative = np.subtract(defect_mask, difference)\n",
        "    false_negative[false_negative < 0] = 0\n",
        "\n",
        "    cv2_imshow(false_negative*255)\n",
        "    \n",
        "    recall = np.sum(true_positive) / np.sum(false_negative + true_positive)\n",
        "    if  np.sum(false_negative + true_positive) == 0.0:\n",
        "      recall = 0.0\n",
        "    print(recall)\n",
        "\n",
        "    #if precision+recall == 0:\n",
        "     # cv2_imshow(difference*255)\n",
        "     # cv2_imshow(defect_mask*255)\n",
        "\n",
        "    recalls = np.append(recalls, recall)\n",
        "    precisions = np.append(precisions, precision)\n",
        "\n",
        "    p += 1\n",
        "    if p == 2:\n",
        "      break\n",
        "\n",
        "  return recalls, precisions\n",
        "  print(np.average(precisions))\n",
        "  print(np.average(recalls))\n"
      ],
      "metadata": {
        "id": "lgd3t0F1sza_"
      },
      "execution_count": null,
      "outputs": []
    },
    {
      "cell_type": "code",
      "source": [
        "quantify_performance_deeppcb()"
      ],
      "metadata": {
        "colab": {
          "base_uri": "https://localhost:8080/",
          "height": 938
        },
        "id": "MoPSzKWtvxoH",
        "outputId": "9cc689dd-09f6-4996-954d-c39cc3de9775"
      },
      "execution_count": null,
      "outputs": [
        {
          "output_type": "stream",
          "name": "stdout",
          "text": [
            "121001612_temp.jpg\n"
          ]
        },
        {
          "output_type": "display_data",
          "data": {
            "text/plain": [
              "<PIL.Image.Image image mode=L size=80x80 at 0x7FA425DD35B0>"
            ],
            "image/png": "[encoded data removed]"
          },
          "metadata": {}
        },
        {
          "output_type": "display_data",
          "data": {
            "text/plain": [
              "<PIL.Image.Image image mode=L size=80x80 at 0x7FA425DD35B0>"
            ],
            "image/png": "[encoded data removed]"
          },
          "metadata": {}
        },
        {
          "output_type": "display_data",
          "data": {
            "text/plain": [
              "<PIL.Image.Image image mode=L size=80x80 at 0x7FA425DD35B0>"
            ],
            "image/png": "[encoded data removed]"
          },
          "metadata": {}
        },
        {
          "output_type": "display_data",
          "data": {
            "text/plain": [
              "<PIL.Image.Image image mode=L size=80x80 at 0x7FA425DD35B0>"
            ],
            "image/png": "[encoded data removed]"
          },
          "metadata": {}
        },
        {
          "output_type": "stream",
          "name": "stdout",
          "text": [
            "0.8333333333333335\n"
          ]
        },
        {
          "output_type": "display_data",
          "data": {
            "text/plain": [
              "<PIL.Image.Image image mode=L size=80x80 at 0x7FA425DD35B0>"
            ],
            "image/png": "[encoded data removed]"
          },
          "metadata": {}
        },
        {
          "output_type": "stream",
          "name": "stdout",
          "text": [
            "0.4040404040404041\n",
            "121000220_temp.jpg\n"
          ]
        },
        {
          "output_type": "display_data",
          "data": {
            "text/plain": [
              "<PIL.Image.Image image mode=L size=80x80 at 0x7FA425D98580>"
            ],
            "image/png": "[encoded data removed]"
          },
          "metadata": {}
        },
        {
          "output_type": "display_data",
          "data": {
            "text/plain": [
              "<PIL.Image.Image image mode=L size=80x80 at 0x7FA41C493CD0>"
            ],
            "image/png": "[encoded data removed]"
          },
          "metadata": {}
        },
        {
          "output_type": "display_data",
          "data": {
            "text/plain": [
              "<PIL.Image.Image image mode=L size=80x80 at 0x7FA425A5CA00>"
            ],
            "image/png": "[encoded data removed]"
          },
          "metadata": {}
        },
        {
          "output_type": "display_data",
          "data": {
            "text/plain": [
              "<PIL.Image.Image image mode=L size=80x80 at 0x7FA425D71540>"
            ],
            "image/png": "[encoded data removed]"
          },
          "metadata": {}
        },
        {
          "output_type": "stream",
          "name": "stdout",
          "text": [
            "0.28148148148148155\n"
          ]
        },
        {
          "output_type": "display_data",
          "data": {
            "text/plain": [
              "<PIL.Image.Image image mode=L size=80x80 at 0x7FA425A5E0B0>"
            ],
            "image/png": "[encoded data removed]"
          },
          "metadata": {}
        },
        {
          "output_type": "stream",
          "name": "stdout",
          "text": [
            "0.23602484472049695\n"
          ]
        },
        {
          "output_type": "execute_result",
          "data": {
            "text/plain": [
              "(array([0.4040404 , 0.23602484]), array([0.83333333, 0.28148148]))"
            ]
          },
          "metadata": {},
          "execution_count": 27
        }
      ]
    },
    {
      "cell_type": "code",
      "source": [
        "recall, precisions = quantify_performance_deeppcb()"
      ],
      "metadata": {
        "colab": {
          "base_uri": "https://localhost:8080/"
        },
        "id": "dUgxF7Zj35au",
        "outputId": "54c1b003-8a7a-4015-eab8-2fb4087b5d0f"
      },
      "execution_count": null,
      "outputs": [
        {
          "output_type": "stream",
          "name": "stderr",
          "text": [
            "<ipython-input-20-a68220a45b7f>:32: RuntimeWarning: invalid value encountered in double_scalars\n",
            "  precision = np.sum(true_positive) / np.sum(false_positive + true_positive)\n",
            "<ipython-input-20-a68220a45b7f>:45: RuntimeWarning: invalid value encountered in double_scalars\n",
            "  recall = np.sum(true_positive) / np.sum(false_negative + true_positive)\n"
          ]
        }
      ]
    },
    {
      "cell_type": "code",
      "source": [
        "print(np.mean(precisions))\n",
        "print(np.mean(recall))\n",
        "print(len(precisions))\n",
        "print(len(recall))"
      ],
      "metadata": {
        "colab": {
          "base_uri": "https://localhost:8080/"
        },
        "id": "S-RtKcy4Rr6h",
        "outputId": "2a266288-e26d-4259-9c20-884a9c177389"
      },
      "execution_count": null,
      "outputs": [
        {
          "output_type": "stream",
          "name": "stdout",
          "text": [
            "0.5630756306371744\n",
            "0.5171856370808613\n",
            "3060\n",
            "3060\n"
          ]
        }
      ]
    },
    {
      "cell_type": "code",
      "source": [
        "print(np.mean(precisions))\n",
        "print(np.mean(recall))\n",
        "print(len(precisions))\n",
        "print(len(recall))"
      ],
      "metadata": {
        "colab": {
          "base_uri": "https://localhost:8080/"
        },
        "id": "DZrb2Zbl4C8O",
        "outputId": "7b3d762c-767d-4af3-f757-a85220fbb423"
      },
      "execution_count": null,
      "outputs": [
        {
          "output_type": "stream",
          "name": "stdout",
          "text": [
            "0.6614983482731479\n",
            "0.462506603314257\n",
            "3060\n",
            "3060\n"
          ]
        }
      ]
    }
  ]
}